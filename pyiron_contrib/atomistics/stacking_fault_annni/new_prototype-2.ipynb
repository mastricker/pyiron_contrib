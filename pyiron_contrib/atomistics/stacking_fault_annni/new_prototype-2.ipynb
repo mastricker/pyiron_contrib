{
 "cells": [
  {
   "cell_type": "code",
   "execution_count": 1,
   "id": "af11e932-f8fe-4ecd-9713-526de9ba5f09",
   "metadata": {},
   "outputs": [],
   "source": [
    "import numpy as np\n",
    "\n",
    "from pyiron_base import GenericJob, DataContainer \n",
    "from pyiron_atomistics.atomistics.structure.has_structure import HasStructure\n",
    "from pyiron_atomistics.lammps.potential import LammpsPotential, LammpsPotentialFile\n",
    "from pyiron_atomistics import Project"
   ]
  },
  {
   "cell_type": "code",
   "execution_count": 2,
   "id": "3b078e24-26c1-4046-99e4-fe49d252e7af",
   "metadata": {},
   "outputs": [],
   "source": [
    "import os"
   ]
  },
  {
   "cell_type": "code",
   "execution_count": 3,
   "id": "dfc4e9c3-0cc6-43cc-9184-d4e189c2c780",
   "metadata": {},
   "outputs": [
    {
     "data": {
      "text/plain": [
       "'/home/markus/repos/pyiron_contrib/pyiron_contrib/atomistics/stacking_fault_annni'"
      ]
     },
     "execution_count": 3,
     "metadata": {},
     "output_type": "execute_result"
    }
   ],
   "source": [
    "os.getcwd()"
   ]
  },
  {
   "cell_type": "code",
   "execution_count": 11,
   "id": "70f1ef40-4f80-4bf6-8e03-e5655691502e",
   "metadata": {},
   "outputs": [],
   "source": [
    "class StackingFaultANNNI(GenericJob):\n",
    "    def __init__(self, project, job_name):\n",
    "        super().__init__(project, job_name)\n",
    "        self.input = DataContainer(table_name=\"inputdata\")\n",
    "        self.output = DataContainer(table_name=\"output\")\n",
    "    \n",
    "    @property\n",
    "    def reference_structure(self):\n",
    "        return self.input.reference_structure\n",
    "\n",
    "    @reference_structure.setter\n",
    "    def reference_structure(self, val):\n",
    "        self.input.reference_structure = val\n",
    "    \n",
    "    @property\n",
    "    def potential(self):\n",
    "        return self.input.potential.df\n",
    "    \n",
    "    @potential.setter\n",
    "    def potential(self, name):\n",
    "        potential = LammpsPotentialFile().find_by_name(name)\n",
    "        self.input.potential = LammpsPotential()\n",
    "        self.input.potential.df = potential  \n",
    "        self.input.potential_name = name\n",
    "    \n",
    "    def calc_anni(self, temperature, steps):\n",
    "        self.input.temperature = temperature\n",
    "        self.input.steps = steps\n",
    "\n",
    "    def run_static(self):\n",
    "        self.status.running = True\n",
    "        energies = []\n",
    "        volumes = []\n",
    "        self._minimize_structure()\n",
    "        self.sf_structures = self._create_sf_structures()\n",
    "        lst = [self.minimum_structure, *self.sf_structures]\n",
    "        # print(lst)\n",
    "        for structure in lst:\n",
    "            print(len(structure))\n",
    "            self._create_ref_job(structure)\n",
    "            zerok_energy = self._calculate_0K_energy(structure)\n",
    "            qh_energy, qh_volume = self._calculate_qh_energy_volume(structure)\n",
    "            energies.append(zerok_energy + qh_energy)\n",
    "            volumes.append(qh_volume)\n",
    "        self.output[\"energy\"] = energies\n",
    "        self.output[\"volume\"] = volumes\n",
    "        \n",
    "        if self.minimum_structure.get_symmetry().spacegroup[\"Number\"] in range(195, 231,1):\n",
    "            sfe = self._calculate_SFE_fcc(energies[0], energies[1], energies[2], volumes[0])\n",
    "        else:\n",
    "            sfe = self._calculate_SFE_hcp(energies[0], energies[1], energies[2], volumes[0])\n",
    "        \n",
    "        self.output[\"stacking_fault_energy\"] = sfe\n",
    "        self.status.collect = True\n",
    "        self.run()\n",
    "        \n",
    "    def _create_hcp_structure(self, minimum_structure):\n",
    "        supercell_size = round((len(minimum_structure)/4)**(1/3))\n",
    "        a_fcc = minimum_structure.cell[0][0]/(supercell_size)\n",
    "        a_hcp = (((a_fcc)**3)/(np.sqrt(3)* (np.sqrt(8/3))))**(1/3)\n",
    "        element = minimum_structure.get_chemical_symbols()[0]\n",
    "        hcp_struc = self.project.create.structure.bulk(element,crystalstructure=\"hcp\",a = a_hcp).repeat(supercell_size)\n",
    "        return hcp_struc\n",
    "\n",
    "    def _create_fcc_structure(self, minimum_structure):\n",
    "        supercell_size = round((len(minimum_structure)/2)**(1/3))\n",
    "        a_hcp = minimum_structure.cell[0][0]/(supercell_size)\n",
    "        c_over_a = minimum_structure.cell[2][2]/minimum_structure.cell[0][0]\n",
    "        a_fcc = (((a_hcp)**3)*(np.sqrt(3)* (c_over_a)))**(1/3)\n",
    "        element = minimum_structure.get_chemical_symbols()[0]\n",
    "        fcc_struc= self.project.create.structure.bulk(element,crystalstructure=\"fcc\", a=a_fcc, cubic=True).repeat(supercell_size)\n",
    "        return  fcc_struc\n",
    "\n",
    "    def _create_dhcp_structure(self, minimum_structure): \n",
    "        supercell_size = round((len(minimum_structure)/2)**(1/3))\n",
    "        a_hcp = minimum_structure.cell[0][0]/(supercell_size)\n",
    "        c_over_a = minimum_structure.cell[2][2]/minimum_structure.cell[0][0]\n",
    "        element = minimum_structure.get_chemical_symbols()[0]\n",
    "        dhcp_unitcell= self.project.create.structure.bulk(element,crystalstructure=\"hcp\",a = a_hcp, covera= c_over_a, orthorhombic=False).repeat([1,1,2])\n",
    "        new_pos=[]\n",
    "        for i in range(len(dhcp_unitcell)):\n",
    "            if i == 3 :\n",
    "                pos = dhcp_unitcell.get_positions()[i] + [a_hcp/2, -((np.sqrt(3)/2)*a_hcp)/3, 0.0]\n",
    "            else:\n",
    "                pos = dhcp_unitcell.get_positions()[i] +[0.0, 0.0, 0.0]   \n",
    "            new_pos.append(pos)\n",
    "        dhcp_unitcell.set_positions(new_pos)\n",
    "        dhcp_hcp_struc = dhcp_unitcell.repeat(supercell_size)\n",
    "        return dhcp_hcp_struc\n",
    "    \n",
    "    def _minimize_structure(self):\n",
    "        job_mini = self.project.create_job(pr.job_type.Lammps, job_name=f'lmp_mini_{self.job_name}')\n",
    "        job_mini.structure =  self.input.reference_structure\n",
    "        job_mini.potential =  self.input.potential_name\n",
    "        job_mini.calc_minimize(pressure=0.0)\n",
    "        job_mini.run(delete_existing_job=True)\n",
    "        self.minimum_structure = job_mini.get_structure() \n",
    "    \n",
    "    def _create_sf_structures(self):\n",
    "        if self.minimum_structure.get_symmetry().spacegroup[\"Number\"] in range(195, 231,1):\n",
    "            SF_structure_1 = self._create_hcp_structure(self.minimum_structure)\n",
    "            SF_structure_2 = self._create_dhcp_structure(SF_structure_1)\n",
    "        else:\n",
    "            SF_structure_1 = self._create_fcc_structure(self.minimum_structure)\n",
    "            SF_structure_2 = self._create_dhcp_structure(self.minimum_structure)\n",
    "        return SF_structure_1, SF_structure_2\n",
    "    \n",
    "    def _create_ref_job(self, structure):\n",
    "        job_strain_template = self.project.create.job.Lammps(job_name=f'lmp_{self.job_name}',delete_existing_job=True)\n",
    "        job_strain_template.potential = self.input.potential_name\n",
    "        job_strain_template.structure = structure\n",
    "        self.job_template = job_strain_template \n",
    "    \n",
    "    def _calculate_0K_energy(self, structure):\n",
    "        murn_strain = self.project.create.job.Murnaghan(job_name=f'Murn_{self.job_name}',delete_existing_job=True)\n",
    "        murn_strain.ref_job = self.job_template\n",
    "        murn_strain.run(delete_existing_job=True)\n",
    "        return ((murn_strain[\"output/energy\"])/len(structure))\n",
    "\n",
    "    def _calculate_qh_energy_volume(self, structure):\n",
    "        phono_strain = self.project.create.job.PhonopyJob(job_name=f'phono_{self.job_name}', delete_existing_job=True)\n",
    "        phono_strain.ref_job = self.job_template\n",
    "        quasi_strain = self.project.create.job.QuasiHarmonicJob(job_name=f'quasi_{self.job_name}', delete_existing_job=True)\n",
    "        quasi_strain.ref_job = phono_strain\n",
    "        quasi_strain.input[\"temperature_end\"] = self.input.temperature\n",
    "        quasi_strain.input[\"temperature_steps\"] = self.input.steps\n",
    "        quasi_strain.input[\"axes\"]=[\"x\",\"y\",\"z\"]\n",
    "        quasi_strain.input[\"strains\"] = None\n",
    "        quasi_strain.run(delete_existing_job=True)\n",
    "        energy = (quasi_strain[\"output/free_energy\"].T)/len(structure)\n",
    "        volume = (quasi_strain[\"output/volumes\"].T)/len(structure)\n",
    "        return energy, volume\n",
    "    \n",
    "    def _calculate_SFE_hcp(self, E_ref_structure, E_SF_structure_1, E_SF_structure_2, V_ref_structure):\n",
    "        Ahcp_T       = []\n",
    "        del_free_eng_I1 = []\n",
    "        del_free_eng_I2 = []\n",
    "        SFE_T_I1 = []\n",
    "        SFE_T_I2 = []\n",
    "        covera = self.minimum_structure.cell[2][2]/self.minimum_structure.cell[0][0]\n",
    "        for i in range(len(E_ref_structure)):\n",
    "            min_index = E_ref_structure[i].argmin()\n",
    "            Ahcp_T.append(((np.sqrt(3)/2)* ((4*V_ref_structure[i][min_index]/(np.sqrt(3)*covera))**(2/3))))\n",
    "            del_free_eng_I1.append((2*(E_SF_structure_2[i][min_index]- E_ref_structure[i][min_index]))*1000)\n",
    "            del_free_eng_I2.append(((E_SF_structure_1[i][min_index])+(2*E_SF_structure_2[i][min_index])-(3*E_ref_structure[i][min_index]))* 1000)\n",
    "            SFE_T_I1.append(del_free_eng_I1[i] /Ahcp_T[i])\n",
    "            SFE_T_I2.append(del_free_eng_I2[i] /Ahcp_T[i])\n",
    "        return SFE_T_I1, SFE_T_I2\n",
    "\n",
    "    def _calculate_SFE_fcc(E_ref_structure, E_SF_structure_1, E_SF_structure_2, V_ref_structure):\n",
    "        Afcc_T       = []\n",
    "        del_free_eng_I1 = []\n",
    "        del_free_eng_I2 = []\n",
    "        SFE_T_I1 = []\n",
    "        SFE_T_I2 = []\n",
    "        for i in range(len(E_ref_structure)):\n",
    "            min_index = E_ref_structure[i].argmin()\n",
    "            Afcc_T.append((np.sqrt(3)/4)* ((4*V_ref_structure[i][min_index])**(2/3)))\n",
    "            del_free_eng_I1.append((2*(E_SF_structure_1[i][min_index]- E_ref_structure[i][min_index]))*1000)\n",
    "            del_free_eng_I2.append(((E_SF_structure_1[i][min_index])+(2*E_SF_structure_2[i][min_index])-(3*E_ref_structure[i][min_index]))* 1000)\n",
    "            SFE_T_I1.append(del_free_eng_I1[i] /Afcc_T[i])\n",
    "            SFE_T_I2.append(del_free_eng_I2[i] /Afcc_T[i])\n",
    "        return SFE_T_I1, SFE_T_I2   \n",
    "\n",
    "    \n",
    "    def collect_output(self):\n",
    "        #self.collect_general_output()\n",
    "        self.to_hdf()\n",
    "    \n",
    "    def to_hdf(self, hdf=None, group_name=None):\n",
    "        super().to_hdf(hdf=hdf, group_name=group_name)\n",
    "        self.input.to_hdf(self.project_hdf5)\n",
    "        self.output.to_hdf(self.project_hdf5)\n",
    "\n",
    "    def from_hdf(self, hdf=None, group_name=None):\n",
    "        super().from_hdf(hdf=hdf, group_name=group_name)\n",
    "        self.input.from_hdf(self.project_hdf5)\n",
    "        self.output.from_hdf(self.project_hdf5)    \n"
   ]
  },
  {
   "cell_type": "code",
   "execution_count": 12,
   "id": "dfeec286-14c5-42ef-ad0d-6aec470ffe26",
   "metadata": {},
   "outputs": [],
   "source": [
    "pr = Project(\"prototype_2\")\n"
   ]
  },
  {
   "cell_type": "code",
   "execution_count": 13,
   "id": "bcf37d63-068d-4086-947f-29e0130a6474",
   "metadata": {},
   "outputs": [],
   "source": [
    "job = pr.create_job(job_type= StackingFaultANNNI, job_name=\"prototype_2\", delete_existing_job=True)"
   ]
  },
  {
   "cell_type": "code",
   "execution_count": 14,
   "id": "6cf72cce-3ade-4c85-b89f-e5ccec1e5490",
   "metadata": {},
   "outputs": [],
   "source": [
    "job.reference_structure = pr.create.structure.bulk('Mg', a = 3.21, orthorhombic=False).repeat(2)"
   ]
  },
  {
   "cell_type": "code",
   "execution_count": 15,
   "id": "60f62c56-eb56-4b45-9ee3-63c19b92e5f2",
   "metadata": {},
   "outputs": [],
   "source": [
    "job.potential = '2009--Kim-Y-M--Mg-Al--LAMMPS--ipr1'"
   ]
  },
  {
   "cell_type": "code",
   "execution_count": 16,
   "id": "a911da66-9ca2-4af7-82e1-4108c7dbf665",
   "metadata": {},
   "outputs": [],
   "source": [
    "job.calc_anni(temperature=200, steps=5)"
   ]
  },
  {
   "cell_type": "code",
   "execution_count": 17,
   "id": "0730c555-2b37-4a20-825b-b6036eb90181",
   "metadata": {
    "tags": []
   },
   "outputs": [
    {
     "name": "stdout",
     "output_type": "stream",
     "text": [
      "The job prototype_2 was saved and received the ID: 566\n",
      "The job lmp_mini_prototype_2 was saved and received the ID: 567\n",
      "16\n",
      "The job Murn_prototype_2 was saved and received the ID: 568\n",
      "The job Murn_prototype_2_0_9 was saved and received the ID: 569\n",
      "The job Murn_prototype_2_0_92 was saved and received the ID: 570\n",
      "The job Murn_prototype_2_0_94 was saved and received the ID: 571\n",
      "The job Murn_prototype_2_0_96 was saved and received the ID: 572\n",
      "The job Murn_prototype_2_0_98 was saved and received the ID: 573\n",
      "The job Murn_prototype_2_1_0 was saved and received the ID: 574\n",
      "The job Murn_prototype_2_1_02 was saved and received the ID: 575\n",
      "The job Murn_prototype_2_1_04 was saved and received the ID: 576\n",
      "The job Murn_prototype_2_1_06 was saved and received the ID: 577\n",
      "The job Murn_prototype_2_1_08 was saved and received the ID: 578\n",
      "The job Murn_prototype_2_1_1 was saved and received the ID: 579\n",
      "The job quasi_prototype_2 was saved and received the ID: 580\n",
      "The job quasi_prototype_2_0_9 was saved and received the ID: 581\n",
      "The job lmp_prototype_2_0 was saved and received the ID: 582\n",
      "The job quasi_prototype_2_0_92 was saved and received the ID: 583\n",
      "The job lmp_prototype_2_0 was saved and received the ID: 584\n",
      "The job quasi_prototype_2_0_94 was saved and received the ID: 585\n",
      "The job lmp_prototype_2_0 was saved and received the ID: 586\n",
      "The job quasi_prototype_2_0_96 was saved and received the ID: 587\n",
      "The job lmp_prototype_2_0 was saved and received the ID: 588\n",
      "The job quasi_prototype_2_0_98 was saved and received the ID: 589\n",
      "The job lmp_prototype_2_0 was saved and received the ID: 590\n",
      "The job quasi_prototype_2_1_0 was saved and received the ID: 591\n",
      "The job lmp_prototype_2_0 was saved and received the ID: 592\n",
      "The job quasi_prototype_2_1_02 was saved and received the ID: 593\n",
      "The job lmp_prototype_2_0 was saved and received the ID: 594\n",
      "The job quasi_prototype_2_1_04 was saved and received the ID: 595\n",
      "The job lmp_prototype_2_0 was saved and received the ID: 596\n",
      "The job quasi_prototype_2_1_06 was saved and received the ID: 597\n",
      "The job lmp_prototype_2_0 was saved and received the ID: 598\n",
      "The job quasi_prototype_2_1_08 was saved and received the ID: 599\n",
      "The job lmp_prototype_2_0 was saved and received the ID: 600\n",
      "The job quasi_prototype_2_1_1 was saved and received the ID: 601\n",
      "The job lmp_prototype_2_0 was saved and received the ID: 602\n",
      "32\n",
      "The job Murn_prototype_2 was saved and received the ID: 603\n",
      "The job Murn_prototype_2_0_9 was saved and received the ID: 604\n",
      "The job Murn_prototype_2_0_92 was saved and received the ID: 605\n",
      "The job Murn_prototype_2_0_94 was saved and received the ID: 606\n",
      "The job Murn_prototype_2_0_96 was saved and received the ID: 607\n",
      "The job Murn_prototype_2_0_98 was saved and received the ID: 608\n",
      "The job Murn_prototype_2_1_0 was saved and received the ID: 609\n",
      "The job Murn_prototype_2_1_02 was saved and received the ID: 610\n",
      "The job Murn_prototype_2_1_04 was saved and received the ID: 611\n",
      "The job Murn_prototype_2_1_06 was saved and received the ID: 612\n",
      "The job Murn_prototype_2_1_08 was saved and received the ID: 613\n",
      "The job Murn_prototype_2_1_1 was saved and received the ID: 614\n",
      "The job quasi_prototype_2 was saved and received the ID: 615\n",
      "The job quasi_prototype_2_0_9 was saved and received the ID: 616\n",
      "The job lmp_prototype_2_0 was saved and received the ID: 617\n",
      "The job quasi_prototype_2_0_92 was saved and received the ID: 618\n",
      "The job lmp_prototype_2_0 was saved and received the ID: 619\n",
      "The job quasi_prototype_2_0_94 was saved and received the ID: 620\n",
      "The job lmp_prototype_2_0 was saved and received the ID: 621\n",
      "The job quasi_prototype_2_0_96 was saved and received the ID: 622\n",
      "The job lmp_prototype_2_0 was saved and received the ID: 623\n",
      "The job quasi_prototype_2_0_98 was saved and received the ID: 624\n",
      "The job lmp_prototype_2_0 was saved and received the ID: 625\n",
      "The job quasi_prototype_2_1_0 was saved and received the ID: 626\n",
      "The job lmp_prototype_2_0 was saved and received the ID: 627\n",
      "The job quasi_prototype_2_1_02 was saved and received the ID: 628\n",
      "The job lmp_prototype_2_0 was saved and received the ID: 629\n",
      "The job quasi_prototype_2_1_04 was saved and received the ID: 630\n",
      "The job lmp_prototype_2_0 was saved and received the ID: 631\n",
      "The job quasi_prototype_2_1_06 was saved and received the ID: 632\n",
      "The job lmp_prototype_2_0 was saved and received the ID: 633\n",
      "The job quasi_prototype_2_1_08 was saved and received the ID: 634\n",
      "The job lmp_prototype_2_0 was saved and received the ID: 635\n",
      "The job quasi_prototype_2_1_1 was saved and received the ID: 636\n",
      "The job lmp_prototype_2_0 was saved and received the ID: 637\n",
      "32\n",
      "The job Murn_prototype_2 was saved and received the ID: 638\n",
      "The job Murn_prototype_2_0_9 was saved and received the ID: 639\n",
      "The job Murn_prototype_2_0_92 was saved and received the ID: 640\n",
      "The job Murn_prototype_2_0_94 was saved and received the ID: 641\n",
      "The job Murn_prototype_2_0_96 was saved and received the ID: 642\n",
      "The job Murn_prototype_2_0_98 was saved and received the ID: 643\n",
      "The job Murn_prototype_2_1_0 was saved and received the ID: 644\n",
      "The job Murn_prototype_2_1_02 was saved and received the ID: 645\n",
      "The job Murn_prototype_2_1_04 was saved and received the ID: 646\n",
      "The job Murn_prototype_2_1_06 was saved and received the ID: 647\n",
      "The job Murn_prototype_2_1_08 was saved and received the ID: 648\n",
      "The job Murn_prototype_2_1_1 was saved and received the ID: 649\n",
      "The job quasi_prototype_2 was saved and received the ID: 650\n",
      "The job quasi_prototype_2_0_9 was saved and received the ID: 651\n",
      "The job lmp_prototype_2_0 was saved and received the ID: 652\n",
      "The job lmp_prototype_2_1 was saved and received the ID: 653\n",
      "The job quasi_prototype_2_0_92 was saved and received the ID: 654\n",
      "The job lmp_prototype_2_0 was saved and received the ID: 655\n",
      "The job lmp_prototype_2_1 was saved and received the ID: 656\n",
      "The job quasi_prototype_2_0_94 was saved and received the ID: 657\n",
      "The job lmp_prototype_2_0 was saved and received the ID: 658\n",
      "The job lmp_prototype_2_1 was saved and received the ID: 659\n",
      "The job quasi_prototype_2_0_96 was saved and received the ID: 660\n",
      "The job lmp_prototype_2_0 was saved and received the ID: 661\n",
      "The job lmp_prototype_2_1 was saved and received the ID: 662\n",
      "The job quasi_prototype_2_0_98 was saved and received the ID: 663\n",
      "The job lmp_prototype_2_0 was saved and received the ID: 664\n",
      "The job lmp_prototype_2_1 was saved and received the ID: 665\n",
      "The job quasi_prototype_2_1_0 was saved and received the ID: 666\n",
      "The job lmp_prototype_2_0 was saved and received the ID: 667\n",
      "The job lmp_prototype_2_1 was saved and received the ID: 668\n",
      "The job quasi_prototype_2_1_02 was saved and received the ID: 669\n",
      "The job lmp_prototype_2_0 was saved and received the ID: 670\n",
      "The job lmp_prototype_2_1 was saved and received the ID: 671\n",
      "The job quasi_prototype_2_1_04 was saved and received the ID: 672\n",
      "The job lmp_prototype_2_0 was saved and received the ID: 673\n",
      "The job lmp_prototype_2_1 was saved and received the ID: 674\n",
      "The job quasi_prototype_2_1_06 was saved and received the ID: 675\n",
      "The job lmp_prototype_2_0 was saved and received the ID: 676\n",
      "The job lmp_prototype_2_1 was saved and received the ID: 677\n",
      "The job quasi_prototype_2_1_08 was saved and received the ID: 678\n",
      "The job lmp_prototype_2_0 was saved and received the ID: 679\n",
      "The job lmp_prototype_2_1 was saved and received the ID: 680\n",
      "The job quasi_prototype_2_1_1 was saved and received the ID: 681\n",
      "The job lmp_prototype_2_0 was saved and received the ID: 682\n",
      "The job lmp_prototype_2_1 was saved and received the ID: 683\n"
     ]
    }
   ],
   "source": [
    "job.run()"
   ]
  },
  {
   "cell_type": "code",
   "execution_count": 30,
   "id": "5dac1656-a862-43b0-b08d-def067450a6d",
   "metadata": {},
   "outputs": [
    {
     "data": {
      "text/plain": [
       "array([[0.90329314, 0.90190845, 0.86974142, 0.8577834 , 0.84439283],\n",
       "       [1.79792616, 1.79497758, 1.73073368, 1.70638946, 1.67917117]])"
      ]
     },
     "execution_count": 30,
     "metadata": {},
     "output_type": "execute_result"
    }
   ],
   "source": [
    "sf_e = np.array(job.output[\"stacking_fault_energy\"])\n",
    "sf_e"
   ]
  },
  {
   "cell_type": "code",
   "execution_count": 31,
   "id": "d96ae1af",
   "metadata": {},
   "outputs": [],
   "source": [
    "import matplotlib.pyplot as plt"
   ]
  },
  {
   "cell_type": "code",
   "execution_count": 35,
   "id": "6b8d47d7-8785-420c-b436-6ed31d36033d",
   "metadata": {},
   "outputs": [
    {
     "data": {
      "text/plain": [
       "(2, 5)"
      ]
     },
     "execution_count": 35,
     "metadata": {},
     "output_type": "execute_result"
    }
   ],
   "source": [
    "sf_e.shape\n"
   ]
  },
  {
   "cell_type": "code",
   "execution_count": 51,
   "id": "a09fe3c8",
   "metadata": {},
   "outputs": [
    {
     "name": "stdout",
     "output_type": "stream",
     "text": [
      "[  0.  50. 100. 150. 200.]\n"
     ]
    },
    {
     "data": {
      "text/plain": [
       "Text(0.5, 1.0, 'SF I1 in meV/A^2')"
      ]
     },
     "execution_count": 51,
     "metadata": {},
     "output_type": "execute_result"
    },
    {
     "data": {
      "image/png": "[encoded data removed]",
      "text/plain": [
       "<Figure size 640x480 with 1 Axes>"
      ]
     },
     "metadata": {},
     "output_type": "display_data"
    }
   ],
   "source": [
    "step_size = 200/4\n",
    "temp = np.arange(0,200 + step_size,step_size)\n",
    "print(temp)\n",
    "plt.plot(temp, sf_e[0,:],'k+')\n",
    "plt.title(\"SF I1 in meV/A^2\")"
   ]
  },
  {
   "cell_type": "code",
   "execution_count": 52,
   "id": "cf72aee7",
   "metadata": {},
   "outputs": [
    {
     "data": {
      "text/plain": [
       "Text(0.5, 1.0, 'SF I2 in meV/A^2')"
      ]
     },
     "execution_count": 52,
     "metadata": {},
     "output_type": "execute_result"
    },
    {
     "data": {
      "image/png": "[encoded data removed]",
      "text/plain": [
       "<Figure size 640x480 with 1 Axes>"
      ]
     },
     "metadata": {},
     "output_type": "display_data"
    }
   ],
   "source": [
    "plt.plot(temp, sf_e[1,:],'k+')\n",
    "plt.title(\"SF I2 in meV/A^2\")"
   ]
  },
  {
   "cell_type": "code",
   "execution_count": null,
   "id": "b2657e9c",
   "metadata": {},
   "outputs": [],
   "source": []
  }
 ],
 "metadata": {
  "kernelspec": {
   "display_name": "Python 3 (ipykernel)",
   "language": "python",
   "name": "python3"
  },
  "language_info": {
   "codemirror_mode": {
    "name": "ipython",
    "version": 3
   },
   "file_extension": ".py",
   "mimetype": "text/x-python",
   "name": "python",
   "nbconvert_exporter": "python",
   "pygments_lexer": "ipython3",
   "version": "3.9.13"
  }
 },
 "nbformat": 4,
 "nbformat_minor": 5
}
