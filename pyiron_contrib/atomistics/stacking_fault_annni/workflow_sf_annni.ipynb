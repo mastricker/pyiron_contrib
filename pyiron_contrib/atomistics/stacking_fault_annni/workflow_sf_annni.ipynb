{
 "cells": [
  {
   "cell_type": "code",
   "execution_count": 1,
   "id": "4d8b9782-e852-4063-91e5-a4df41934cd1",
   "metadata": {},
   "outputs": [],
   "source": [
    "%matplotlib inline"
   ]
  },
  {
   "cell_type": "code",
   "execution_count": 2,
   "id": "81abd3d5-5d20-45e7-9e1c-54b79c2bf7aa",
   "metadata": {},
   "outputs": [],
   "source": [
    "from pyiron_atomistics import Project\n",
    "import numpy as np\n",
    "import matplotlib.pyplot as plt\n",
    "#import seaborn as sns\n",
    "import matplotlib"
   ]
  },
  {
   "cell_type": "code",
   "execution_count": 32,
   "id": "e0e28335-9a33-4926-8433-4a568f86dcd5",
   "metadata": {},
   "outputs": [],
   "source": [
    "pr = Project('ANNNI_18')"
   ]
  },
  {
   "cell_type": "markdown",
   "id": "d9b94f52-b5e2-4721-aa9b-fb82bac7580d",
   "metadata": {},
   "source": [
    "# Helping Functions"
   ]
  },
  {
   "cell_type": "markdown",
   "id": "da4df8b5-a2f5-4ae2-a949-01c39da45b24",
   "metadata": {},
   "source": [
    "## Structures "
   ]
  },
  {
   "cell_type": "code",
   "execution_count": 33,
   "id": "d071a84d-4e5e-42cb-948f-8eb8ae9babcb",
   "metadata": {},
   "outputs": [],
   "source": [
    "def structure_minimization (reference_structure, potential):\n",
    "    job_mini = pr.create_job(pr.job_type.Lammps, job_name='lmp_mini')\n",
    "    job_mini.structure =  reference_structure\n",
    "    job_mini.potential =  potential\n",
    "    job_mini.calc_minimize(pressure=0.0)\n",
    "    job_mini.run(delete_existing_job=True)\n",
    "    minimum_structure = job_mini.get_structure()  \n",
    "    return minimum_structure"
   ]
  },
  {
   "cell_type": "code",
   "execution_count": 34,
   "id": "29685e3d-39fd-4025-b9d7-81c2f087dc2e",
   "metadata": {},
   "outputs": [],
   "source": [
    "def fcc_structure(minimum_structure):\n",
    "    supercell_size = round((len(minimum_structure)/2)**(1/3))\n",
    "    a_hcp = minimum_structure.cell[0][0]/(supercell_size)\n",
    "    c_over_a = minimum_structure.cell[2][2]/minimum_structure.cell[0][0]\n",
    "    a_fcc = (((a_hcp)**3)*(np.sqrt(3)* (c_over_a)))**(1/3)\n",
    "    element = minimum_structure.get_chemical_symbols()[0]\n",
    "    fcc_struc= pr.create.structure.bulk(element,crystalstructure=\"fcc\", a=a_fcc, cubic=True).repeat(supercell_size)\n",
    "    return  fcc_struc"
   ]
  },
  {
   "cell_type": "code",
   "execution_count": 35,
   "id": "ca504191-2a48-477d-b6ef-b434f2e7aaad",
   "metadata": {},
   "outputs": [],
   "source": [
    "def dhcp_structure(minimum_structure): #or hcp struc \n",
    "    supercell_size = round((len(minimum_structure)/2)**(1/3))\n",
    "    a_hcp = minimum_structure.cell[0][0]/(supercell_size)\n",
    "    c_over_a = minimum_structure.cell[2][2]/minimum_structure.cell[0][0]\n",
    "    element = minimum_structure.get_chemical_symbols()[0]\n",
    "    dhcp_unitcell= pr.create.structure.bulk(element,crystalstructure=\"hcp\",a = a_hcp, covera= c_over_a, orthorhombic=False).repeat([1,1,2])\n",
    "    new_pos=[]\n",
    "    for i in range(len(dhcp_unitcell)):\n",
    "        if i == 3 :\n",
    "            pos = dhcp_unitcell.get_positions()[i] + [a_hcp/2, -((np.sqrt(3)/2)*a_hcp)/3, 0.0]\n",
    "        else:\n",
    "            pos = dhcp_unitcell.get_positions()[i] +[0.0, 0.0, 0.0]   \n",
    "        new_pos.append(pos)\n",
    "    dhcp_unitcell.set_positions(new_pos)\n",
    "    dhcp_hcp_struc = dhcp_unitcell.repeat(supercell_size)\n",
    "    return dhcp_hcp_struc"
   ]
  },
  {
   "cell_type": "code",
   "execution_count": 36,
   "id": "088c1dea-4fad-4266-a767-ad79d0cd2e18",
   "metadata": {},
   "outputs": [],
   "source": [
    "def hcp_structure(minimum_structure):\n",
    "    supercell_size = round((len(minimum_structure)/4)**(1/3))\n",
    "    a_fcc = minimum_structure.cell[0][0]/(supercell_size)\n",
    "    a_hcp = (((a_fcc)**3)/(np.sqrt(3)* (np.sqrt(8/3))))**(1/3)\n",
    "    element = minimum_structure.get_chemical_symbols()[0]\n",
    "    hcp_struc = pr.create.structure.bulk(element,crystalstructure=\"hcp\",a = a_hcp).repeat(supercell_size)\n",
    "    return hcp_struc"
   ]
  },
  {
   "cell_type": "code",
   "execution_count": 37,
   "id": "bc04ef81-cd31-45f8-8958-c39c3a1958a2",
   "metadata": {},
   "outputs": [],
   "source": [
    "def SF_structures(minimum_structure):\n",
    "    if minimum_structure.get_symmetry().spacegroup[\"Number\"] in range(195, 231,1):\n",
    "        SF_structure_1 = hcp_structure(minimum_structure)\n",
    "        SF_structure_2 = dhcp_structure(SF_structure_1)\n",
    "        print(\"reference structure is fcc\")\n",
    "    else:\n",
    "        SF_structure_1 = fcc_structure(minimum_structure)\n",
    "        SF_structure_2 = dhcp_structure(minimum_structure)\n",
    "        print(\"reference structure is hcp\")\n",
    "    return SF_structure_1, SF_structure_2"
   ]
  },
  {
   "cell_type": "markdown",
   "id": "511f559f-6c58-463e-a45b-f574ab6d885d",
   "metadata": {},
   "source": [
    "## Zero_Kelvin Energy "
   ]
  },
  {
   "cell_type": "code",
   "execution_count": 38,
   "id": "cb593579-5b2a-4006-9438-cd7b04e684a9",
   "metadata": {},
   "outputs": [],
   "source": [
    "def calculate_0K_energy(structure, potential):\n",
    "    job_strain_template = pr.create.job.Lammps(job_name='lmp'+ str(round(structure.cell.cellpar()[2])))\n",
    "    job_strain_template.potential = potential\n",
    "    job_strain_template.structure = structure\n",
    "    job_strain_bulk = job_strain_template.copy_to(new_job_name='Bulk'+ str(round(structure.cell.cellpar()[2])), new_database_entry=False)\n",
    "    murn_strain = pr.create.job.Murnaghan(job_name='Murn'+ str(round(structure.cell.cellpar()[2])))\n",
    "    murn_strain.ref_job = job_strain_bulk\n",
    "    murn_strain.run()\n",
    "    zeroK_energy = (murn_strain[\"output/energy\"])/len(structure)\n",
    "    return zeroK_energy"
   ]
  },
  {
   "cell_type": "markdown",
   "id": "2dcc3f3b-507f-496a-9a5b-d4d83944d911",
   "metadata": {},
   "source": [
    "## Temperature_Dependence Energy"
   ]
  },
  {
   "cell_type": "code",
   "execution_count": 39,
   "id": "0b3735de-7b22-40fe-9c7c-759b01cee159",
   "metadata": {},
   "outputs": [],
   "source": [
    "def calculate_qh_energy_volume(structure, potential, temperature, steps):\n",
    "    job_strain_template = pr.create.job.Lammps(job_name='lmp'+ str(round(structure.cell.cellpar()[2])))\n",
    "    job_strain_template.potential = potential\n",
    "    job_strain_template.structure = structure\n",
    "    phono_strain = pr.create.job.PhonopyJob(job_name='phono_'+ str(round(structure.cell.cellpar()[2])))\n",
    "    phono_strain.ref_job = job_strain_template\n",
    "    quasi_strain = pr.create.job.QuasiHarmonicJob(job_name='quasi_'+ str(round(structure.cell.cellpar()[2])))\n",
    "    quasi_strain.ref_job = phono_strain\n",
    "    quasi_strain.input[\"temperature_end\"] = temperature\n",
    "    quasi_strain.input[\"temperature_steps\"] = steps\n",
    "    quasi_strain.input[\"axes\"]=[\"x\",\"y\",\"z\"]\n",
    "    quasi_strain.input[\"strains\"] = None\n",
    "    quasi_strain.run()\n",
    "    energy = (quasi_strain[\"output/free_energy\"].T)/len(structure)\n",
    "    volume = (quasi_strain[\"output/volumes\"].T)/len(structure)\n",
    "    return energy, volume"
   ]
  },
  {
   "cell_type": "markdown",
   "id": "f96788f9-6bff-492b-8a62-34f424f21e52",
   "metadata": {},
   "source": [
    "## SFE Calculation "
   ]
  },
  {
   "cell_type": "code",
   "execution_count": 40,
   "id": "ec282f89-f5d1-43b2-84e4-710ea1f10cf4",
   "metadata": {},
   "outputs": [],
   "source": [
    "def SFE_calculation_hcp(E_ref_structure, E_SF_structure_1, E_SF_structure_2, V_ref_structure, minimum_structure):\n",
    "    Ahcp_T       = []\n",
    "    del_free_eng_I1 = []\n",
    "    del_free_eng_I2 = []\n",
    "    SFE_T_I1 = []\n",
    "    SFE_T_I2 = []\n",
    "    covera = minimum_structure.cell[2][2]/minimum_structure.cell[0][0]\n",
    "    for i in range(len(E_ref_structure)):\n",
    "        min_index = E_ref_structure[i].argmin()\n",
    "        Ahcp_T.append(((np.sqrt(3)/2)* ((4*V_ref_structure[i][min_index]/(np.sqrt(3)*covera))**(2/3))))\n",
    "        del_free_eng_I1.append((2*(E_SF_structure_2[i][min_index]- E_ref_structure[i][min_index]))*1000)\n",
    "        del_free_eng_I2.append(((E_SF_structure_1[i][min_index])+(2*E_SF_structure_2[i][min_index])-(3*E_ref_structure[i][min_index]))* 1000)\n",
    "        SFE_T_I1.append(del_free_eng_I1[i] /Ahcp_T[i])\n",
    "        SFE_T_I2.append(del_free_eng_I2[i] /Ahcp_T[i])\n",
    "    return SFE_T_I1, SFE_T_I2"
   ]
  },
  {
   "cell_type": "code",
   "execution_count": 41,
   "id": "37d98785-a612-4503-9951-9cb59a84fa82",
   "metadata": {},
   "outputs": [],
   "source": [
    "def SFE_calculation_fcc(E_ref_structure, E_SF_structure_1, E_SF_structure_2, V_ref_structure):\n",
    "    Afcc_T       = []\n",
    "    del_free_eng_I1 = []\n",
    "    del_free_eng_I2 = []\n",
    "    SFE_T_I1 = []\n",
    "    SFE_T_I2 = []\n",
    "    for i in range(len(E_ref_structure)):\n",
    "        min_index = E_ref_structure[i].argmin()\n",
    "        Afcc_T.append((np.sqrt(3)/4)* ((4*V_ref_structure[i][min_index])**(2/3)))\n",
    "        del_free_eng_I1.append((2*(E_SF_structure_1[i][min_index]- E_ref_structure[i][min_index]))*1000)\n",
    "        del_free_eng_I2.append(((E_SF_structure_1[i][min_index])+(2*E_SF_structure_2[i][min_index])-(3*E_ref_structure[i][min_index]))* 1000)\n",
    "        SFE_T_I1.append(del_free_eng_I1[i] /Afcc_T[i])\n",
    "        SFE_T_I2.append(del_free_eng_I2[i] /Afcc_T[i])\n",
    "    return SFE_T_I1, SFE_T_I2"
   ]
  },
  {
   "cell_type": "code",
   "execution_count": 42,
   "id": "4d99b70c-7a66-432b-be54-017d6e748854",
   "metadata": {},
   "outputs": [],
   "source": [
    "def ANNNI_model(reference_structure, potential, temperature=None, steps=None):\n",
    "    energies = []\n",
    "    volumes = []\n",
    "    minimum_structure = structure_minimization(reference_structure, potential)\n",
    "    SFstructures = SF_structures(minimum_structure)\n",
    "    for structure in [minimum_structure, SFstructures[0], SFstructures[1]]:\n",
    "        zero_K_energy = calculate_0K_energy(structure, potential)\n",
    "        qh_energy, qh_volume = calculate_qh_energy_volume(structure, potential, temperature, steps)\n",
    "        energies.append(zero_K_energy + qh_energy)\n",
    "        volumes.append(qh_volume)\n",
    "    if minimum_structure.get_symmetry().spacegroup[\"Number\"] in range(195, 231,1):\n",
    "        SFE = SFE_calculation_fcc(energies[0], energies[1], energies[2], volumes[0])\n",
    "    else:\n",
    "        SFE = SFE_calculation_hcp(energies[0], energies[1], energies[2], volumes[0], minimum_structure)\n",
    "    return SFE"
   ]
  },
  {
   "cell_type": "code",
   "execution_count": 43,
   "id": "705fb1d1-cccb-4699-a400-3eb41f85c51d",
   "metadata": {
    "jupyter": {
     "outputs_hidden": true
    },
    "tags": []
   },
   "outputs": [
    {
     "name": "stdout",
     "output_type": "stream",
     "text": [
      "The job lmp_mini was saved and received the ID: 102\n",
      "reference structure is hcp\n",
      "The job Murn10 was saved and received the ID: 103\n",
      "The job Murn10_0_9 was saved and received the ID: 104\n",
      "The job Murn10_0_92 was saved and received the ID: 105\n",
      "The job Murn10_0_94 was saved and received the ID: 106\n",
      "The job Murn10_0_96 was saved and received the ID: 107\n",
      "The job Murn10_0_98 was saved and received the ID: 108\n",
      "The job Murn10_1_0 was saved and received the ID: 109\n",
      "The job Murn10_1_02 was saved and received the ID: 110\n",
      "The job Murn10_1_04 was saved and received the ID: 111\n",
      "The job Murn10_1_06 was saved and received the ID: 112\n",
      "The job Murn10_1_08 was saved and received the ID: 113\n",
      "The job Murn10_1_1 was saved and received the ID: 114\n",
      "The job quasi_10 was saved and received the ID: 115\n",
      "The job quasi_10_0_9 was saved and received the ID: 116\n",
      "The job lmp10_0 was saved and received the ID: 117\n",
      "The job quasi_10_0_92 was saved and received the ID: 118\n",
      "The job lmp10_0 was saved and received the ID: 119\n",
      "The job quasi_10_0_94 was saved and received the ID: 120\n",
      "The job lmp10_0 was saved and received the ID: 121\n",
      "The job quasi_10_0_96 was saved and received the ID: 122\n",
      "The job lmp10_0 was saved and received the ID: 123\n",
      "The job quasi_10_0_98 was saved and received the ID: 124\n",
      "The job lmp10_0 was saved and received the ID: 125\n",
      "The job quasi_10_1_0 was saved and received the ID: 126\n",
      "The job lmp10_0 was saved and received the ID: 127\n",
      "The job quasi_10_1_02 was saved and received the ID: 128\n",
      "The job lmp10_0 was saved and received the ID: 129\n",
      "The job quasi_10_1_04 was saved and received the ID: 130\n",
      "The job lmp10_0 was saved and received the ID: 131\n",
      "The job quasi_10_1_06 was saved and received the ID: 132\n",
      "The job lmp10_0 was saved and received the ID: 133\n",
      "The job quasi_10_1_08 was saved and received the ID: 134\n",
      "The job lmp10_0 was saved and received the ID: 135\n",
      "The job quasi_10_1_1 was saved and received the ID: 136\n",
      "The job lmp10_0 was saved and received the ID: 137\n",
      "The job Murn9 was saved and received the ID: 138\n",
      "The job Murn9_0_9 was saved and received the ID: 139\n",
      "The job Murn9_0_92 was saved and received the ID: 140\n",
      "The job Murn9_0_94 was saved and received the ID: 141\n",
      "The job Murn9_0_96 was saved and received the ID: 142\n",
      "The job Murn9_0_98 was saved and received the ID: 143\n",
      "The job Murn9_1_0 was saved and received the ID: 144\n",
      "The job Murn9_1_02 was saved and received the ID: 145\n",
      "The job Murn9_1_04 was saved and received the ID: 146\n",
      "The job Murn9_1_06 was saved and received the ID: 147\n",
      "The job Murn9_1_08 was saved and received the ID: 148\n",
      "The job Murn9_1_1 was saved and received the ID: 149\n",
      "The job quasi_9 was saved and received the ID: 150\n",
      "The job quasi_9_0_9 was saved and received the ID: 151\n",
      "The job lmp9_0 was saved and received the ID: 152\n",
      "The job quasi_9_0_92 was saved and received the ID: 153\n",
      "The job lmp9_0 was saved and received the ID: 154\n",
      "The job quasi_9_0_94 was saved and received the ID: 155\n",
      "The job lmp9_0 was saved and received the ID: 156\n",
      "The job quasi_9_0_96 was saved and received the ID: 157\n",
      "The job lmp9_0 was saved and received the ID: 158\n",
      "The job quasi_9_0_98 was saved and received the ID: 159\n",
      "The job lmp9_0 was saved and received the ID: 160\n",
      "The job quasi_9_1_0 was saved and received the ID: 161\n",
      "The job lmp9_0 was saved and received the ID: 162\n",
      "The job quasi_9_1_02 was saved and received the ID: 163\n",
      "The job lmp9_0 was saved and received the ID: 164\n",
      "The job quasi_9_1_04 was saved and received the ID: 165\n",
      "The job lmp9_0 was saved and received the ID: 166\n",
      "The job quasi_9_1_06 was saved and received the ID: 167\n",
      "The job lmp9_0 was saved and received the ID: 168\n",
      "The job quasi_9_1_08 was saved and received the ID: 169\n",
      "The job lmp9_0 was saved and received the ID: 170\n",
      "The job quasi_9_1_1 was saved and received the ID: 171\n",
      "The job lmp9_0 was saved and received the ID: 172\n",
      "The job Murn21 was saved and received the ID: 173\n",
      "The job Murn21_0_9 was saved and received the ID: 174\n",
      "The job Murn21_0_92 was saved and received the ID: 175\n",
      "The job Murn21_0_94 was saved and received the ID: 176\n",
      "The job Murn21_0_96 was saved and received the ID: 177\n",
      "The job Murn21_0_98 was saved and received the ID: 178\n",
      "The job Murn21_1_0 was saved and received the ID: 179\n",
      "The job Murn21_1_02 was saved and received the ID: 180\n",
      "The job Murn21_1_04 was saved and received the ID: 181\n",
      "The job Murn21_1_06 was saved and received the ID: 182\n",
      "The job Murn21_1_08 was saved and received the ID: 183\n",
      "The job Murn21_1_1 was saved and received the ID: 184\n",
      "The job quasi_21 was saved and received the ID: 185\n",
      "The job quasi_21_0_9 was saved and received the ID: 186\n",
      "The job lmp21_0 was saved and received the ID: 187\n",
      "The job lmp21_1 was saved and received the ID: 188\n",
      "The job quasi_21_0_92 was saved and received the ID: 189\n",
      "The job lmp21_0 was saved and received the ID: 190\n",
      "The job lmp21_1 was saved and received the ID: 191\n",
      "The job quasi_21_0_94 was saved and received the ID: 192\n",
      "The job lmp21_0 was saved and received the ID: 193\n",
      "The job lmp21_1 was saved and received the ID: 194\n",
      "The job quasi_21_0_96 was saved and received the ID: 195\n",
      "The job lmp21_0 was saved and received the ID: 196\n",
      "The job lmp21_1 was saved and received the ID: 197\n",
      "The job quasi_21_0_98 was saved and received the ID: 198\n",
      "The job lmp21_0 was saved and received the ID: 199\n",
      "The job lmp21_1 was saved and received the ID: 200\n",
      "The job quasi_21_1_0 was saved and received the ID: 201\n",
      "The job lmp21_0 was saved and received the ID: 202\n",
      "The job lmp21_1 was saved and received the ID: 203\n",
      "The job quasi_21_1_02 was saved and received the ID: 204\n",
      "The job lmp21_0 was saved and received the ID: 205\n",
      "The job lmp21_1 was saved and received the ID: 206\n",
      "The job quasi_21_1_04 was saved and received the ID: 207\n",
      "The job lmp21_0 was saved and received the ID: 208\n",
      "The job lmp21_1 was saved and received the ID: 209\n",
      "The job quasi_21_1_06 was saved and received the ID: 210\n",
      "The job lmp21_0 was saved and received the ID: 211\n",
      "The job lmp21_1 was saved and received the ID: 212\n",
      "The job quasi_21_1_08 was saved and received the ID: 213\n",
      "The job lmp21_0 was saved and received the ID: 214\n",
      "The job lmp21_1 was saved and received the ID: 215\n",
      "The job quasi_21_1_1 was saved and received the ID: 216\n",
      "The job lmp21_0 was saved and received the ID: 217\n",
      "The job lmp21_1 was saved and received the ID: 218\n"
     ]
    }
   ],
   "source": [
    "potential = '1998--Liu-X-Y--Al-Mg--LAMMPS--ipr1'\n",
    "mg_hcp =  pr.create.structure.bulk('Mg', a = 3.21, orthorhombic=False).repeat(2)\n",
    "SFE = ANNNI_model(mg_hcp, potential=potential, temperature=800, steps=5)"
   ]
  },
  {
   "cell_type": "code",
   "execution_count": 44,
   "id": "a9317336-5549-48b4-afd7-b64f1fe085bd",
   "metadata": {},
   "outputs": [
    {
     "data": {
      "text/plain": [
       "[1.6595080315935213,\n",
       " 1.6136202501814045,\n",
       " 1.5442294338457236,\n",
       " 1.492348909862815,\n",
       " 0.5986677498864809]"
      ]
     },
     "execution_count": 44,
     "metadata": {},
     "output_type": "execute_result"
    }
   ],
   "source": [
    "SFE[0]"
   ]
  },
  {
   "cell_type": "code",
   "execution_count": 45,
   "id": "1c6bec57-2e5f-4a80-8b24-b59680e07089",
   "metadata": {},
   "outputs": [
    {
     "data": {
      "text/plain": [
       "[3.313437080965767,\n",
       " 3.22709834219003,\n",
       " 3.0954852237137893,\n",
       " 2.9985857836408645,\n",
       " 1.283059817721857]"
      ]
     },
     "execution_count": 45,
     "metadata": {},
     "output_type": "execute_result"
    }
   ],
   "source": [
    "SFE[1]"
   ]
  },
  {
   "cell_type": "code",
   "execution_count": null,
   "id": "216b1e96-f2ce-4998-9f50-0fd6abac9566",
   "metadata": {},
   "outputs": [],
   "source": []
  }
 ],
 "metadata": {
  "kernelspec": {
   "display_name": "Python 3 (ipykernel)",
   "language": "python",
   "name": "python3"
  },
  "language_info": {
   "codemirror_mode": {
    "name": "ipython",
    "version": 3
   },
   "file_extension": ".py",
   "mimetype": "text/x-python",
   "name": "python",
   "nbconvert_exporter": "python",
   "pygments_lexer": "ipython3",
   "version": "3.9.13"
  }
 },
 "nbformat": 4,
 "nbformat_minor": 5
}
